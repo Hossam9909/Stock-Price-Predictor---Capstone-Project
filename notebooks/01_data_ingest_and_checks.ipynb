{
 "cells": [
  {
   "cell_type": "markdown",
   "id": "4d28aa49",
   "metadata": {},
   "source": [
    "#  📊 Data Ingestion and Quality Checks\n",
    "# \n",
    "# **IMPORTANT**: This notebook **USES** the existing `src/data.py` \n",
    "# \n",
    "#  Objectives:\n",
    "# - ✅ **Tests** your existing `src/data.py` functions\n",
    "# - ✅ **Visualizes** downloaded data\n",
    "# - ✅ **Compares** multiple stocks\n",
    "# - ✅ **Documents** data quality findings"
   ]
  },
  {
   "cell_type": "markdown",
   "id": "960062eb",
   "metadata": {},
   "source": [
    "# Import and Setup"
   ]
  },
  {
   "cell_type": "code",
   "execution_count": null,
   "id": "42c4e4a4",
   "metadata": {},
   "outputs": [],
   "source": [
    "import seaborn as sns\n",
    "import matplotlib.pyplot as plt\n",
    "import pandas as pd\n",
    "from data import download_multiple_tickers, load_raw_data, validate_data_quality, calculate_returns\n",
    "import sys\n",
    "sys.path.append('../src')\n",
    "\n",
    "# Configure display\n",
    "pd.set_option('display.max_columns', None)\n",
    "plt.style.use('seaborn-v0_8')\n",
    "\n",
    "print(\"✅ Imports complete - using existing src/data.py functions\")"
   ]
  },
  {
   "cell_type": "markdown",
   "id": "d165334c",
   "metadata": {},
   "source": [
    "#  Download Sample Data \n"
   ]
  },
  {
   "cell_type": "code",
   "execution_count": null,
   "id": "17575941",
   "metadata": {},
   "outputs": [],
   "source": [
    "tickers = ['AAPL', 'GOOGL', 'MSFT']\n",
    "results = download_multiple_tickers(\n",
    "    tickers, '2020-01-01', '2023-12-31', '../data/raw')\n",
    "print(\"Download completed!\")\n",
    "print(\"Saved files:\", results)"
   ]
  },
  {
   "cell_type": "markdown",
   "id": "5f7c22af",
   "metadata": {},
   "source": [
    "# Load and Explore"
   ]
  },
  {
   "cell_type": "code",
   "execution_count": null,
   "id": "8a6bfb10",
   "metadata": {},
   "outputs": [],
   "source": [
    "aapl_data = load_raw_data('../data/raw/AAPL.csv')\n",
    "print(f\"AAPL data shape: {aapl_data.shape}\")\n",
    "print(f\"Date range: {aapl_data.index.min()} to {aapl_data.index.max()}\")\n",
    "aapl_data.head()"
   ]
  },
  {
   "cell_type": "markdown",
   "id": "3f41623d",
   "metadata": {},
   "source": [
    "#  Data Quality Assessment"
   ]
  },
  {
   "cell_type": "code",
   "execution_count": null,
   "id": "90e04d72",
   "metadata": {},
   "outputs": [],
   "source": [
    "quality_results = validate_data_quality(aapl_data, detailed=True)\n",
    "print(\"Data Quality Report:\")\n",
    "print(\n",
    "    f\"Overall Quality: {'✅ PASS' if quality_results['overall'] else '❌ ISSUES'}\")\n",
    "for issue in quality_results['issues']:\n",
    "    print(f\"- {issue}\")"
   ]
  },
  {
   "cell_type": "markdown",
   "id": "0abefd4a",
   "metadata": {},
   "source": [
    "#  Basic Visualizations "
   ]
  },
  {
   "cell_type": "code",
   "execution_count": null,
   "id": "c80a1f04",
   "metadata": {},
   "outputs": [],
   "source": [
    "fig, axes = plt.subplots(2, 2, figsize=(15, 10))\n",
    "aapl_data['Close'].plot(title='AAPL Close Price', ax=axes[0, 0])\n",
    "aapl_data['Volume'].plot(title='AAPL Volume', ax=axes[0, 1])\n",
    "calculate_returns(aapl_data['Close']).plot(\n",
    "    title='AAPL Daily Returns', ax=axes[1, 0])\n",
    "aapl_data['Close'].pct_change().hist(bins=50, ax=axes[1, 1])\n",
    "axes[1, 1].set_title('Returns Distribution')\n",
    "plt.tight_layout()\n",
    "plt.show()"
   ]
  },
  {
   "cell_type": "markdown",
   "id": "989a7035",
   "metadata": {},
   "source": [
    "#  Multi-Stock Comparison "
   ]
  },
  {
   "cell_type": "code",
   "execution_count": null,
   "id": "f7cb54da",
   "metadata": {},
   "outputs": [],
   "source": [
    "all_data = {}\n",
    "for ticker in tickers:\n",
    "    all_data[ticker] = load_raw_data(f'../data/raw/{ticker}.csv')['Close']\n",
    "\n",
    "comparison_df = pd.DataFrame(all_data)\n",
    "comparison_df.plot(title='Stock Price Comparison', figsize=(12, 6))\n",
    "plt.show()"
   ]
  }
 ],
 "metadata": {
  "kernelspec": {
   "display_name": "stock-predictor",
   "language": "python",
   "name": "python3"
  },
  "language_info": {
   "codemirror_mode": {
    "name": "ipython",
    "version": 3
   },
   "file_extension": ".py",
   "mimetype": "text/x-python",
   "name": "python",
   "nbconvert_exporter": "python",
   "pygments_lexer": "ipython3",
   "version": "3.12.11"
  }
 },
 "nbformat": 4,
 "nbformat_minor": 5
}
